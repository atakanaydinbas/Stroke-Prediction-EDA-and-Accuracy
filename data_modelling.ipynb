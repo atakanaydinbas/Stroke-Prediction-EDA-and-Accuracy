{
 "cells": [
  {
   "cell_type": "code",
   "execution_count": 1,
   "metadata": {},
   "outputs": [],
   "source": [
    "import pandas as pd\n",
    "import os\n",
    "import numpy as np"
   ]
  },
  {
   "cell_type": "code",
   "execution_count": 6,
   "metadata": {},
   "outputs": [],
   "source": [
    "data = pd.read_csv('healthcare-dataset-stroke-data.csv')"
   ]
  },
  {
   "cell_type": "code",
   "execution_count": 7,
   "metadata": {},
   "outputs": [
    {
     "name": "stdout",
     "output_type": "stream",
     "text": [
      "<class 'pandas.core.frame.DataFrame'>\n",
      "RangeIndex: 5110 entries, 0 to 5109\n",
      "Data columns (total 12 columns):\n",
      " #   Column             Non-Null Count  Dtype  \n",
      "---  ------             --------------  -----  \n",
      " 0   id                 5110 non-null   int64  \n",
      " 1   gender             5110 non-null   object \n",
      " 2   age                5110 non-null   float64\n",
      " 3   hypertension       5110 non-null   int64  \n",
      " 4   heart_disease      5110 non-null   int64  \n",
      " 5   ever_married       5110 non-null   object \n",
      " 6   work_type          5110 non-null   object \n",
      " 7   Residence_type     5110 non-null   object \n",
      " 8   avg_glucose_level  5110 non-null   float64\n",
      " 9   bmi                4909 non-null   float64\n",
      " 10  smoking_status     5110 non-null   object \n",
      " 11  stroke             5110 non-null   int64  \n",
      "dtypes: float64(3), int64(4), object(5)\n",
      "memory usage: 479.2+ KB\n"
     ]
    }
   ],
   "source": [
    "#Let's see the data information\n",
    "\n",
    "data.info()"
   ]
  },
  {
   "cell_type": "code",
   "execution_count": 9,
   "metadata": {},
   "outputs": [
    {
     "data": {
      "text/plain": [
       "id                   5110\n",
       "gender                  3\n",
       "age                   104\n",
       "hypertension            2\n",
       "heart_disease           2\n",
       "ever_married            2\n",
       "work_type               5\n",
       "Residence_type          2\n",
       "avg_glucose_level    3979\n",
       "bmi                   418\n",
       "smoking_status          4\n",
       "stroke                  2\n",
       "dtype: int64"
      ]
     },
     "execution_count": 9,
     "metadata": {},
     "output_type": "execute_result"
    }
   ],
   "source": [
    "#We can see that there are unique values in the data. We should drop them because they are not useful for our analysis.\n",
    "data.nunique()"
   ]
  },
  {
   "cell_type": "code",
   "execution_count": 10,
   "metadata": {},
   "outputs": [],
   "source": [
    "data.drop([\"id\"], axis=1, inplace=True)"
   ]
  },
  {
   "cell_type": "code",
   "execution_count": 12,
   "metadata": {},
   "outputs": [
    {
     "data": {
      "text/plain": [
       "gender                 0\n",
       "age                    0\n",
       "hypertension           0\n",
       "heart_disease          0\n",
       "ever_married           0\n",
       "work_type              0\n",
       "Residence_type         0\n",
       "avg_glucose_level      0\n",
       "bmi                  201\n",
       "smoking_status         0\n",
       "stroke                 0\n",
       "dtype: int64"
      ]
     },
     "execution_count": 12,
     "metadata": {},
     "output_type": "execute_result"
    }
   ],
   "source": [
    "#We have null datas in the bmi column.We should handle with it.\n",
    "data.isnull().sum()"
   ]
  },
  {
   "cell_type": "code",
   "execution_count": 14,
   "metadata": {},
   "outputs": [],
   "source": [
    "#We should fill it with bmi column's mean value. I choose fill this method because it is the easiest and useful way to do it.\n",
    "data[\"bmi\"].fillna(data[\"bmi\"].mean(), inplace=True)"
   ]
  },
  {
   "cell_type": "code",
   "execution_count": 15,
   "metadata": {},
   "outputs": [
    {
     "data": {
      "text/plain": [
       "gender               0\n",
       "age                  0\n",
       "hypertension         0\n",
       "heart_disease        0\n",
       "ever_married         0\n",
       "work_type            0\n",
       "Residence_type       0\n",
       "avg_glucose_level    0\n",
       "bmi                  0\n",
       "smoking_status       0\n",
       "stroke               0\n",
       "dtype: int64"
      ]
     },
     "execution_count": 15,
     "metadata": {},
     "output_type": "execute_result"
    }
   ],
   "source": [
    "data.isnull().sum()"
   ]
  },
  {
   "cell_type": "code",
   "execution_count": 17,
   "metadata": {},
   "outputs": [
    {
     "data": {
      "text/plain": [
       "array([36.6       , 28.89323691, 32.5       , 34.4       , 24.        ,\n",
       "       29.        , 27.4       , 22.8       , 24.2       , 29.7       ,\n",
       "       36.8       , 27.3       , 28.2       , 30.9       , 37.5       ,\n",
       "       25.8       , 37.8       , 22.4       , 48.9       , 26.6       ,\n",
       "       27.2       , 23.5       , 28.3       , 44.2       , 25.4       ,\n",
       "       22.2       , 30.5       , 26.5       , 33.7       , 23.1       ,\n",
       "       32.        , 29.9       , 23.9       , 28.5       , 26.4       ,\n",
       "       20.2       , 33.6       , 38.6       , 39.2       , 27.7       ,\n",
       "       31.4       , 36.5       , 33.2       , 32.8       , 40.4       ,\n",
       "       25.3       , 30.2       , 47.5       , 20.3       , 30.        ,\n",
       "       28.9       , 28.1       , 31.1       , 21.7       , 27.        ,\n",
       "       24.1       , 45.9       , 44.1       , 22.9       , 29.1       ,\n",
       "       32.3       , 41.1       , 25.6       , 29.8       , 26.3       ,\n",
       "       26.2       , 29.4       , 24.4       , 28.        , 28.8       ,\n",
       "       34.6       , 19.4       , 30.3       , 41.5       , 22.6       ,\n",
       "       56.6       , 27.1       , 31.3       , 31.        , 31.7       ,\n",
       "       35.8       , 28.4       , 20.1       , 26.7       , 38.7       ,\n",
       "       34.9       , 25.        , 23.8       , 21.8       , 27.5       ,\n",
       "       24.6       , 32.9       , 26.1       , 31.9       , 34.1       ,\n",
       "       36.9       , 37.3       , 45.7       , 34.2       , 23.6       ,\n",
       "       22.3       , 37.1       , 45.        , 25.5       , 30.8       ,\n",
       "       37.4       , 34.5       , 27.9       , 29.5       , 46.        ,\n",
       "       42.5       , 35.5       , 26.9       , 45.5       , 31.5       ,\n",
       "       33.        , 23.4       , 30.7       , 20.5       , 21.5       ,\n",
       "       40.        , 28.6       , 42.2       , 29.6       , 35.4       ,\n",
       "       16.9       , 26.8       , 39.3       , 32.6       , 35.9       ,\n",
       "       21.2       , 42.4       , 40.5       , 36.7       , 29.3       ,\n",
       "       19.6       , 18.        , 17.6       , 19.1       , 50.1       ,\n",
       "       17.7       , 54.6       , 35.        , 22.        , 39.4       ,\n",
       "       19.7       , 22.5       , 25.2       , 41.8       , 60.9       ,\n",
       "       23.7       , 24.5       , 31.2       , 16.        , 31.6       ,\n",
       "       25.1       , 24.8       , 18.3       , 20.        , 19.5       ,\n",
       "       36.        , 35.3       , 40.1       , 43.1       , 21.4       ,\n",
       "       34.3       , 27.6       , 16.5       , 24.3       , 25.7       ,\n",
       "       21.9       , 38.4       , 25.9       , 54.7       , 18.6       ,\n",
       "       24.9       , 48.2       , 20.7       , 39.5       , 23.3       ,\n",
       "       64.8       , 35.1       , 43.6       , 21.        , 47.3       ,\n",
       "       16.6       , 21.6       , 15.5       , 35.6       , 16.7       ,\n",
       "       41.9       , 16.4       , 17.1       , 29.2       , 37.9       ,\n",
       "       44.6       , 39.6       , 40.3       , 41.6       , 39.        ,\n",
       "       23.2       , 18.9       , 36.1       , 36.3       , 46.5       ,\n",
       "       16.8       , 46.6       , 35.2       , 20.9       , 13.8       ,\n",
       "       31.8       , 15.3       , 38.2       , 45.2       , 17.        ,\n",
       "       49.8       , 27.8       , 60.2       , 23.        , 22.1       ,\n",
       "       26.        , 44.3       , 51.        , 39.7       , 34.7       ,\n",
       "       21.3       , 41.2       , 34.8       , 19.2       , 35.7       ,\n",
       "       40.8       , 24.7       , 19.        , 32.4       , 34.        ,\n",
       "       28.7       , 32.1       , 51.5       , 20.4       , 30.6       ,\n",
       "       71.9       , 19.3       , 40.9       , 17.2       , 16.1       ,\n",
       "       16.2       , 40.6       , 18.4       , 21.1       , 42.3       ,\n",
       "       32.2       , 50.2       , 17.5       , 18.7       , 42.1       ,\n",
       "       47.8       , 20.8       , 30.1       , 17.3       , 36.4       ,\n",
       "       12.        , 36.2       , 55.7       , 14.4       , 43.        ,\n",
       "       41.7       , 33.8       , 43.9       , 22.7       , 57.5       ,\n",
       "       37.        , 38.5       , 16.3       , 44.        , 32.7       ,\n",
       "       54.2       , 40.2       , 33.3       , 17.4       , 41.3       ,\n",
       "       52.3       , 14.6       , 17.8       , 46.1       , 33.1       ,\n",
       "       18.1       , 43.8       , 50.3       , 38.9       , 43.7       ,\n",
       "       39.9       , 15.9       , 19.8       , 12.3       , 78.        ,\n",
       "       38.3       , 41.        , 42.6       , 43.4       , 15.1       ,\n",
       "       20.6       , 33.5       , 43.2       , 30.4       , 38.        ,\n",
       "       33.4       , 44.9       , 44.7       , 37.6       , 39.8       ,\n",
       "       53.4       , 55.2       , 42.        , 37.2       , 42.8       ,\n",
       "       18.8       , 42.9       , 14.3       , 37.7       , 48.4       ,\n",
       "       50.6       , 46.2       , 49.5       , 43.3       , 33.9       ,\n",
       "       18.5       , 44.5       , 45.4       , 55.        , 54.8       ,\n",
       "       19.9       , 17.9       , 15.6       , 52.8       , 15.2       ,\n",
       "       66.8       , 55.1       , 18.2       , 48.5       , 55.9       ,\n",
       "       57.3       , 10.3       , 14.1       , 15.7       , 56.        ,\n",
       "       44.8       , 13.4       , 51.8       , 38.1       , 57.7       ,\n",
       "       44.4       , 38.8       , 49.3       , 39.1       , 54.        ,\n",
       "       56.1       , 97.6       , 53.9       , 13.7       , 11.5       ,\n",
       "       41.4       , 14.2       , 49.4       , 15.4       , 45.1       ,\n",
       "       49.2       , 48.7       , 53.8       , 42.7       , 48.8       ,\n",
       "       52.7       , 53.5       , 50.5       , 15.8       , 45.3       ,\n",
       "       14.8       , 51.9       , 63.3       , 40.7       , 61.2       ,\n",
       "       48.        , 46.8       , 48.3       , 58.1       , 50.4       ,\n",
       "       11.3       , 12.8       , 13.5       , 14.5       , 15.        ,\n",
       "       59.7       , 47.4       , 52.5       , 13.2       , 52.9       ,\n",
       "       61.6       , 49.9       , 54.3       , 47.9       , 13.        ,\n",
       "       13.9       , 50.9       , 57.2       , 64.4       , 92.        ,\n",
       "       50.8       , 57.9       , 45.8       , 47.6       , 14.        ,\n",
       "       46.4       , 46.9       , 47.1       , 13.3       , 48.1       ,\n",
       "       51.7       , 46.3       , 54.1       , 14.9       ])"
      ]
     },
     "execution_count": 17,
     "metadata": {},
     "output_type": "execute_result"
    }
   ],
   "source": [
    "data[\"bmi\"].unique()"
   ]
  },
  {
   "cell_type": "code",
   "execution_count": null,
   "metadata": {},
   "outputs": [],
   "source": []
  }
 ],
 "metadata": {
  "kernelspec": {
   "display_name": "Python 3.10.6 64-bit",
   "language": "python",
   "name": "python3"
  },
  "language_info": {
   "codemirror_mode": {
    "name": "ipython",
    "version": 3
   },
   "file_extension": ".py",
   "mimetype": "text/x-python",
   "name": "python",
   "nbconvert_exporter": "python",
   "pygments_lexer": "ipython3",
   "version": "3.10.6"
  },
  "orig_nbformat": 4,
  "vscode": {
   "interpreter": {
    "hash": "fb4569285eef3a3450cb62085a5b1e0da4bce0af555edc33dcf29baf3acc1368"
   }
  }
 },
 "nbformat": 4,
 "nbformat_minor": 2
}
